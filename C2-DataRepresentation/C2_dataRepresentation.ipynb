{
  "nbformat": 4,
  "nbformat_minor": 0,
  "metadata": {
    "colab": {
      "provenance": []
    },
    "kernelspec": {
      "name": "python3",
      "display_name": "Python 3"
    },
    "language_info": {
      "name": "python"
    }
  },
  "cells": [
    {
      "cell_type": "markdown",
      "source": [
        "# Princípios da vizualização da informação"
      ],
      "metadata": {
        "id": "ijhvWhz2IrrN"
      }
    },
    {
      "cell_type": "markdown",
      "source": [
        "Nas duas últimas decadas presenciamos um grande avanço no poder das formas em que a informação pode ser apresentada ao público, trazendo a atenção para problemas importantes e para informar a audiencia.\n",
        "\n",
        "Em contrapartida, a apresentação das informações em mapas, gráficos, tabelas e imagens podem trazer informações de formas errôneas ou enganosas.\n",
        "\n",
        "Os comunicadores visuais que se baseiam em evidencias, como:  Estátisticos, cartográfos, ciêntistas da computação, jornalistas visuais e designers gráficos. São os principais intermediários entre a complexidade do mundo e a sociedade civil democrática. E muitos dos profissionais se abstiveram da discussão sobre as informções ilusórias e errôneas.\n",
        "\n",
        "Edward Tuff criou um cálculo de um \"fator de mentira\" (quase que de brincadeira) que é escrito matemáticamente por:\n",
        "\n",
        "```Lie Factor = Size of effect show in the graph / Size of effect in data```\n",
        "\n",
        "*Quanto mais próximo de 1, mais o gŕafico condiz com a realidade.*\n",
        "\n",
        "Sendo óbvio, gráficos não mentem. Quem pode mentir é a pessoa por trás da exibição daquela informação. Segundo o livro de ética, uma mentira se classifica como: ``` “An intentionally deceptive\n",
        "message in the form of a statement.” ```\n",
        "\n",
        "E vale ressaltar que errar é diferente de mentir. Está presente na natureza humana cometer erros, agora a mentira é configurada quando, **sabendo da verdade, ou parte dela, esconder, omitir e distorcer convenientemente a informação.** Completamente inaceitável para qualquer profissional da comunicação.\n",
        "\n",
        "Alguém que pretenda transmitir uma mensagem/informação pode não ser saber completamente sobre o assunto, ou possuir as habilidades técnicas específicas para isso. Mas se ela fizer o melhor para entender e transmitir isso corretamente. Ela estará agindo com honestidade e ética.\n",
        "\n",
        "Pode ser contraintuítivo, mas, não devemos escrever/criar algo pensando que tudo bem cometer alguns erros. Uma informação errônea e uma mentira podem ter o mesmo efeito e fatalidade. Escreva pensando no púbico que irá decodificar aquela informação (No escopo do curso, as informações visuais).\n",
        "\n",
        "Algumas maneiras de se mentir através de gráficos é:\n",
        "* Não exibir informação o suficiente;\n",
        "* Exibir dados inacurados ou imprecisos.\n",
        "* Ofuscando as informações relevantes;\n",
        "\n",
        "Reorganizando as idéias acima:\n",
        "* Esconder dados relevantes para dar destaque ao que beneficia a nós mesmos ou clientes.\n",
        "* Exibindo muita informação para esconder a realidade;\n",
        "* Usando formatos e alcances de gráficos inapropriados.\n",
        "\n"
      ],
      "metadata": {
        "id": "bSBVLTJ2I1CJ"
      }
    },
    {
      "cell_type": "code",
      "source": [],
      "metadata": {
        "id": "dUWnS2QCOTBb"
      },
      "execution_count": null,
      "outputs": []
    },
    {
      "cell_type": "code",
      "execution_count": null,
      "metadata": {
        "id": "S-0mTKmapk1D"
      },
      "outputs": [],
      "source": []
    },
    {
      "cell_type": "code",
      "source": [],
      "metadata": {
        "id": "KXqSliA_qYa-"
      },
      "execution_count": null,
      "outputs": []
    },
    {
      "cell_type": "code",
      "source": [],
      "metadata": {
        "id": "bIIZH7sQwndL"
      },
      "execution_count": null,
      "outputs": []
    },
    {
      "cell_type": "markdown",
      "source": [],
      "metadata": {
        "id": "2Jksg2a0wk4a"
      }
    }
  ]
}
